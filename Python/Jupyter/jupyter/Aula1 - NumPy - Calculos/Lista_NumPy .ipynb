{
  "nbformat": 4,
  "nbformat_minor": 0,
  "metadata": {
    "colab": {
      "name": "Lista_NumPy.ipynb",
      "provenance": [],
      "collapsed_sections": []
    },
    "kernelspec": {
      "name": "python3",
      "display_name": "Python 3"
    },
    "language_info": {
      "name": "python"
    }
  },
  "cells": [
    {
      "cell_type": "markdown",
      "metadata": {
        "id": "MY7MhhRhyjWC"
      },
      "source": [
        "**1) Escreva um programa para criar um vetor contendo todos os números inteiros pares entre 20 e 90.**"
      ]
    },
    {
      "cell_type": "code",
      "metadata": {
        "id": "9eoTeY2HyScF"
      },
      "source": [],
      "execution_count": null,
      "outputs": []
    },
    {
      "cell_type": "markdown",
      "metadata": {
        "id": "XE25JY-wzSTK"
      },
      "source": [
        "**2) Escreva um programa que calcula a soma de todos os elementos de um vetor. Utilize a função sum do NumPy.**"
      ]
    },
    {
      "cell_type": "code",
      "metadata": {
        "id": "kB5GZmUoz_kW"
      },
      "source": [],
      "execution_count": null,
      "outputs": []
    },
    {
      "cell_type": "markdown",
      "metadata": {
        "id": "ENU8CF2-0S5M"
      },
      "source": [
        "**3) Escreva um programa que calcula a soma de todos os elementos de uma matriz.**\n",
        "\n"
      ]
    },
    {
      "cell_type": "code",
      "metadata": {
        "id": "0JZsV6Pf0oXx"
      },
      "source": [],
      "execution_count": null,
      "outputs": []
    },
    {
      "cell_type": "markdown",
      "metadata": {
        "id": "tn-xkVl00fua"
      },
      "source": [
        "**4) Escreva um programa que gere uma matriz NxM contendo números aleatórios entre 0 e 1. Dica: np.random.rand(..)**"
      ]
    },
    {
      "cell_type": "code",
      "metadata": {
        "id": "Ygh_-1cv0o07"
      },
      "source": [],
      "execution_count": null,
      "outputs": []
    },
    {
      "cell_type": "markdown",
      "metadata": {
        "id": "Z_6SesRV04Ed"
      },
      "source": [
        "**5) Escreva um programa que calcule o produto matricial A.B, onde A e B são duas matrizes 6x6 formadas por números aleatórios entre -1 e 1.**"
      ]
    },
    {
      "cell_type": "code",
      "metadata": {
        "id": "9JrD5zQ81ZTP"
      },
      "source": [],
      "execution_count": null,
      "outputs": []
    },
    {
      "cell_type": "markdown",
      "metadata": {
        "id": "Lqr7I99D1-IO"
      },
      "source": [
        "**6) Escreva uma função que receba como argumento duas matrizes A (NxM) e B (MxP) e retorne o produto matricial C = A.B, com C(NxP), utilizando loops (ou seja, sem utilizar funcionalidades prontas do NumPy). Antes de efetuar a multiplicação sua função deve verificar se as dimensões de A e B são compatíveis com um produto matricial. Compare o resultado da função com A.dot(B) para verificar a sua implementação.**"
      ]
    },
    {
      "cell_type": "code",
      "metadata": {
        "id": "tpZjzjFT2lSD"
      },
      "source": [],
      "execution_count": null,
      "outputs": []
    },
    {
      "cell_type": "markdown",
      "metadata": {
        "id": "5DB5A6La29Tx"
      },
      "source": [
        "**7) Crie um vetor de temperaturas em graus Celsius contendo 20 valores entre 10ºC e 90ºC. Calcule em um segundo vetor o valor dessas temperaturas em graus Fahrenheit e imprima-o na tela.**"
      ]
    },
    {
      "cell_type": "code",
      "metadata": {
        "id": "6TwIr2id3idD"
      },
      "source": [],
      "execution_count": null,
      "outputs": []
    },
    {
      "cell_type": "markdown",
      "metadata": {
        "id": "BVJsWjuJ3h_r"
      },
      "source": [
        "**8) Escreva um programa que, dada uma matriz A, verifique se A é simétrica, isto é, se $A = A^T$. Resolva o problema 1) utilizando loops para varrer cada elemento e 2) utilizando A.T (sintaxe do NumPy para cálculo da matriz transposta).**"
      ]
    },
    {
      "cell_type": "code",
      "metadata": {
        "id": "T4SLFMA34LD3"
      },
      "source": [],
      "execution_count": null,
      "outputs": []
    },
    {
      "cell_type": "markdown",
      "metadata": {
        "id": "Pue3NYau4YTW"
      },
      "source": [
        "**9) Escreva um programa que resolva um sistema linear com N equações e N incógnitas, tal que Ax = b. Após encontrar o vetor de soluções x, verifique que A.dot(x) é igual a b. Dica: você pode usar np.random.rand(..) para gerar a matriz A e o vetor b.**"
      ]
    },
    {
      "cell_type": "code",
      "metadata": {
        "id": "aqfCqwR54-6T"
      },
      "source": [],
      "execution_count": null,
      "outputs": []
    },
    {
      "cell_type": "markdown",
      "metadata": {
        "id": "J5h6sPaT5XQ7"
      },
      "source": [
        "**10) Escreve um programa que crie um arquivo chamado seno.txt contendo duas colunas: a primeira corresponde a 100 valores entre 0 e 2*pi, e a segunda corresponde ao seno de cada valor da primeira coluna. Salve os valores com 6 casas decimais. Dica: utilize a função np.savetxt(..).**"
      ]
    },
    {
      "cell_type": "code",
      "metadata": {
        "id": "ovaocQ055r56"
      },
      "source": [
        "\n"
      ],
      "execution_count": null,
      "outputs": []
    },
    {
      "cell_type": "markdown",
      "metadata": {
        "id": "6Xb5CD3M64bX"
      },
      "source": [
        "**11) Escreve um programa que leia o arquivo seno.txt gerado no exercício anterior, armazenando a primeira coluna em um vetor x e a segunda coluna em um vetor f. Dica: utilize a função numpy.loadtxt(..)**"
      ]
    },
    {
      "cell_type": "code",
      "metadata": {
        "id": "PGqe5RKf7Jc4"
      },
      "source": [],
      "execution_count": 1,
      "outputs": []
    }
  ]
}