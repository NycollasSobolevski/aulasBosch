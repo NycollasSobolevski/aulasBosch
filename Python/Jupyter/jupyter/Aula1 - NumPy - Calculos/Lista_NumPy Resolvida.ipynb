{
 "cells": [
  {
   "cell_type": "markdown",
   "metadata": {
    "id": "XE25JY-wzSTK"
   },
   "source": [
    "**1) Escreva um programa para criar um vetor contendo todos os números inteiros pares entre 20 e 90.**"
   ]
  },
  {
   "cell_type": "code",
   "execution_count": 1,
   "metadata": {
    "colab": {
     "base_uri": "https://localhost:8080/"
    },
    "id": "9eoTeY2HyScF",
    "outputId": "6b7df118-44e5-438a-f3bd-9c609b4881d9"
   },
   "outputs": [
    {
     "name": "stdout",
     "output_type": "stream",
     "text": [
      "[20 22 24 26 28 30 32 34 36 38 40 42 44 46 48 50 52 54 56 58 60 62 64 66\n",
      " 68 70 72 74 76 78 80 82 84 86 88 90]\n"
     ]
    }
   ],
   "source": [
    "import numpy as np\n",
    "\n",
    "vetor = np.arange(20,91,2)\n",
    "print(vetor)"
   ]
  },
  {
   "cell_type": "markdown",
   "metadata": {
    "id": "XE25JY-wzSTK"
   },
   "source": [
    "**2) Escreva um programa que calcula a soma de todos os elementos de um vetor. Utilize a função sum do NumPy.**"
   ]
  },
  {
   "cell_type": "code",
   "execution_count": 3,
   "metadata": {
    "colab": {
     "base_uri": "https://localhost:8080/"
    },
    "id": "kB5GZmUoz_kW",
    "outputId": "23a90aab-b26d-469f-e5f9-3637f2f4fe55"
   },
   "outputs": [
    {
     "name": "stdout",
     "output_type": "stream",
     "text": [
      "Insira o número de linhas do vetor: 5\n",
      "[51. 78. 74. 97. 35.]\n",
      "335.0\n"
     ]
    }
   ],
   "source": [
    "import numpy as np\n",
    "\n",
    "def soma(array):\n",
    "    resultado = np.sum(array)\n",
    "    return resultado\n",
    "\n",
    "n = int(input(\"Insira o número de linhas do vetor: \"))\n",
    "vetor = np.floor(100*np.random.random((n))) \n",
    "print(vetor)\n",
    "s = soma(vetor)\n",
    "print(s)"
   ]
  },
  {
   "cell_type": "markdown",
   "metadata": {
    "id": "ENU8CF2-0S5M"
   },
   "source": [
    "**3) Escreva um programa que calcula a soma de todos os elementos de uma matriz.**\n",
    "\n"
   ]
  },
  {
   "cell_type": "code",
   "execution_count": 7,
   "metadata": {
    "colab": {
     "base_uri": "https://localhost:8080/"
    },
    "id": "0JZsV6Pf0oXx",
    "outputId": "3ef717e8-99e9-453e-f2b8-9a7a8e81fa8e"
   },
   "outputs": [
    {
     "name": "stdout",
     "output_type": "stream",
     "text": [
      "Insira o número de linhas da matriz: 5\n",
      "Insira o número de colunas da matriz: 5\n",
      "[[10. 48. 29. 40. 35.]\n",
      " [23. 21. 61. 67. 89.]\n",
      " [96. 46. 83. 33. 43.]\n",
      " [27. 16. 56. 79.  2.]\n",
      " [69. 28.  7. 94. 36.]]\n",
      "1138.0\n"
     ]
    }
   ],
   "source": [
    "import numpy as np\n",
    "\n",
    "i = int(input(\"Insira o número de linhas da matriz: \"))\n",
    "j = int(input(\"Insira o número de colunas da matriz: \"))\n",
    "matriz = np.floor(100*np.random.random((i,j))) \n",
    "print(matriz)\n",
    "r = np.sum(matriz)\n",
    "print(r)"
   ]
  },
  {
   "cell_type": "markdown",
   "metadata": {
    "id": "tn-xkVl00fua"
   },
   "source": [
    "**4) Escreva um programa que gere uma matriz NxM contendo números aleatórios entre 0 e 1. Dica: np.random.rand(..)**"
   ]
  },
  {
   "cell_type": "code",
   "execution_count": 12,
   "metadata": {
    "colab": {
     "base_uri": "https://localhost:8080/"
    },
    "id": "Ygh_-1cv0o07",
    "outputId": "12a82e53-9798-48d2-9cb6-2c4297c0f7e8"
   },
   "outputs": [
    {
     "name": "stdout",
     "output_type": "stream",
     "text": [
      "Insira o número de linhas da matriz: 5\n",
      "Insira o número de colunas da matriz: 5\n",
      "[[0.41299626 0.60359528 0.76603965 0.19252601 0.05445623]\n",
      " [0.41898786 0.05952511 0.84405414 0.84551427 0.16188527]\n",
      " [0.42556543 0.89933262 0.99614348 0.73271035 0.79918575]\n",
      " [0.11111963 0.55121368 0.03268064 0.39467303 0.82516269]\n",
      " [0.78815886 0.89430028 0.91454632 0.4233017  0.6957614 ]]\n"
     ]
    }
   ],
   "source": [
    "import numpy as np\n",
    "\n",
    "n = int(input(\"Insira o número de linhas da matriz: \"))\n",
    "m = int(input(\"Insira o número de colunas da matriz: \"))\n",
    "matriz = np.random.rand(n, m)\n",
    "print(matriz)"
   ]
  },
  {
   "cell_type": "markdown",
   "metadata": {
    "id": "Z_6SesRV04Ed"
   },
   "source": [
    "**5) Escreva um programa que calcule o produto matricial A.B, onde A e B são duas matrizes 6x6 formadas por números aleatórios entre -1 e 1.**"
   ]
  },
  {
   "cell_type": "code",
   "execution_count": 13,
   "metadata": {
    "colab": {
     "base_uri": "https://localhost:8080/"
    },
    "id": "9JrD5zQ81ZTP",
    "outputId": "b911b52a-284c-4ebe-855d-1949a9b2cef4"
   },
   "outputs": [
    {
     "name": "stdout",
     "output_type": "stream",
     "text": [
      "[[-0.81817565 -0.48781858 -0.03816634 -0.45856862 -0.81651682  0.62703065]\n",
      " [-0.06458294 -0.6316246  -0.04829811 -0.76018079 -0.12353177  0.79152423]\n",
      " [ 0.27291913 -0.99134311  0.84899798 -0.78622283  0.07728464 -0.79443905]\n",
      " [ 0.84465292 -0.03794121 -0.01766836  0.59875907 -0.46829297  0.52872693]\n",
      " [-0.91764428 -0.97327504  0.32853121 -0.09866376 -0.39488463 -0.16418742]\n",
      " [-0.66794369 -0.67014931  0.23504324 -0.99566541 -0.31363272  0.59673937]]\n",
      "[[ 0.42962834 -0.70560356 -0.43608193  0.11323918  0.73331613 -0.1650518 ]\n",
      " [ 0.04844055 -0.98524271 -0.5349427   0.75589208 -0.22815916 -0.95599695]\n",
      " [-0.96770237  0.41719936  0.12837421  0.31195169 -0.37992984  0.61346333]\n",
      " [ 0.50048382  0.05622746 -0.30046695  0.40058105 -0.4480844   0.75907918]\n",
      " [-0.92238756  0.58932971  0.61368785 -0.23821903 -0.45158232 -0.03129931]\n",
      " [-0.28317114 -0.56876931 -0.80864841  0.82531487  0.14028547  0.9123896 ]]\n",
      "[[ 0.00787381  0.17838682 -0.25750204  0.05501987  0.18798469  0.82754355]\n",
      " [-0.50225554  0.08198488 -0.12761936 -0.12164972  0.62255038  0.73386913]\n",
      " [-0.99216075  1.59153366  1.44637061 -1.44261592  0.30970589  0.09944207]\n",
      " [ 0.96004328 -1.10901596 -1.24515688  0.84923071  0.65211791  0.83758905]\n",
      " [-0.39796219  1.59858814  0.88306861 -0.81807844 -0.37618105  1.07111178]\n",
      " [-0.92488472  0.64939921  0.30408277 -0.34050936  0.24527386  0.69358282]]\n"
     ]
    }
   ],
   "source": [
    "import numpy as np\n",
    "\n",
    "A = np.random.rand(6, 6)\n",
    "A = (A*2)-1\n",
    "print(A)\n",
    "\n",
    "B = np.random.rand(6, 6)\n",
    "B = (B*2)-1\n",
    "print(B)\n",
    "#M = np.dot(A,B)\n",
    "M = A.dot(B) \n",
    "print(M)"
   ]
  },
  {
   "cell_type": "markdown",
   "metadata": {
    "id": "Lqr7I99D1-IO"
   },
   "source": [
    "**6) Escreva uma função que receba como argumento duas matrizes A (NxM) e B (MxP) e retorne o produto matricial C = A.B, com C(NxP), utilizando loops (ou seja, sem utilizar funcionalidades prontas do NumPy). Antes de efetuar a multiplicação sua função deve verificar se as dimensões de A e B são compatíveis com um produto matricial. Compare o resultado da função com A.dot(B) para verificar a sua implementação.**"
   ]
  },
  {
   "cell_type": "code",
   "execution_count": null,
   "metadata": {
    "colab": {
     "base_uri": "https://localhost:8080/"
    },
    "id": "tpZjzjFT2lSD",
    "outputId": "7dc6a2c5-d831-420f-c829-0ac77cd23304"
   },
   "outputs": [
    {
     "name": "stdout",
     "output_type": "stream",
     "text": [
      "4\n",
      "4\n",
      "4\n",
      "[[ 5747.  7176.  5996. 10360.]\n",
      " [ 7550. 11297.  6912. 16077.]\n",
      " [ 6611. 15294.  7559. 12603.]\n",
      " [10720.  8092. 10377. 18211.]]\n",
      "[[ 5747.  7176.  5996. 10360.]\n",
      " [ 7550. 11297.  6912. 16077.]\n",
      " [ 6611. 15294.  7559. 12603.]\n",
      " [10720.  8092. 10377. 18211.]]\n",
      "Matrizes iguais\n"
     ]
    }
   ],
   "source": [
    "import numpy as np\n",
    "\n",
    "N = int(input())\n",
    "M = int(input())\n",
    "P = int(input())\n",
    "\n",
    "A = np.floor(100*np.random.random((N,M))) \n",
    "B = np.floor(100*np.random.random((M,P))) \n",
    "l = []\n",
    "for linha in range(N):\n",
    "    for coluna in range(P):\n",
    "        s = 0\n",
    "        for k in range(M):\n",
    "            s = s + A[linha][k]*B[k][coluna]\n",
    "        l.append(s)\n",
    "C = np.array(l).reshape(N,P)\n",
    "C2 = A.dot(B)\n",
    "\n",
    "print(C)\n",
    "print(C2)\n",
    "if np.array_equal(C,C2)==True:\n",
    "    print(\"Matrizes iguais\")"
   ]
  },
  {
   "cell_type": "markdown",
   "metadata": {
    "id": "5DB5A6La29Tx"
   },
   "source": [
    "**7) Crie um vetor de temperaturas em graus Celsius contendo 20 valores entre 10ºC e 90ºC. Calcule em um segundo vetor o valor dessas temperaturas em graus Fahrenheit e imprima-o na tela.**"
   ]
  },
  {
   "cell_type": "code",
   "execution_count": 14,
   "metadata": {
    "colab": {
     "base_uri": "https://localhost:8080/"
    },
    "id": "6TwIr2id3idD",
    "outputId": "24cb7429-0cc5-4b69-f5b8-7ac6da069548"
   },
   "outputs": [
    {
     "name": "stdout",
     "output_type": "stream",
     "text": [
      "[79 85 72 58 46 25 71 12 14 45 11 78 70 27 57 44 28 56 44 64]\n",
      "[174.2 185.  161.6 136.4 114.8  77.  159.8  53.6  57.2 113.   51.8 172.4\n",
      " 158.   80.6 134.6 111.2  82.4 132.8 111.2 147.2]\n"
     ]
    }
   ],
   "source": [
    "import numpy as np\n",
    "\n",
    "C = np.random.randint(10,90, size=(20))\n",
    "print(C)\n",
    "F = (C*9/5) + 32\n",
    "print(F)"
   ]
  },
  {
   "cell_type": "markdown",
   "metadata": {
    "id": "BVJsWjuJ3h_r"
   },
   "source": [
    "**8) Escreva um programa que, dada uma matriz A, verifique se A é simétrica, isto é, se $A = A^T$. Resolva o problema 1) utilizando loops para varrer cada elemento e 2) utilizando A.T (sintaxe do NumPy para cálculo da matriz transposta).**"
   ]
  },
  {
   "cell_type": "code",
   "execution_count": 18,
   "metadata": {
    "colab": {
     "base_uri": "https://localhost:8080/"
    },
    "id": "T4SLFMA34LD3",
    "outputId": "ec3d7eb5-ab34-4965-a2ca-96a2528984cb"
   },
   "outputs": [
    {
     "name": "stdout",
     "output_type": "stream",
     "text": [
      "(2, 2)\n",
      "2\n",
      "2\n",
      "Matriz simétrica\n",
      "[[2 1]\n",
      " [1 2]]\n",
      "[[ True  True]\n",
      " [ True  True]]\n"
     ]
    }
   ],
   "source": [
    "import numpy as np\n",
    "\n",
    "a = np.array([[2,1],[1,2]])\n",
    "\n",
    "print(a.shape)\n",
    "print(a.shape[0])\n",
    "print(a.shape[1])\n",
    "\n",
    "s = 1\n",
    "for i in range (a.shape[0]):\n",
    "    for j in range (a.shape[1]):\n",
    "        if a[i,j] != a[j,i]:\n",
    "            s = 0\n",
    "\n",
    "if s == 1:\n",
    "    print(\"Matriz simétrica\")\n",
    "else:\n",
    "    print(\"Matriz não simétrica\")\n",
    "print(a)    \n",
    "print(a==a.T)   "
   ]
  },
  {
   "cell_type": "markdown",
   "metadata": {
    "id": "Pue3NYau4YTW"
   },
   "source": [
    "**9) Escreva um programa que resolva um sistema linear com N equações e N incógnitas, tal que Ax = b. Após encontrar o vetor de soluções x, verifique que A.dot(x) é igual a b. Dica: você pode usar np.random.rand(..) para gerar a matriz A e o vetor b.**"
   ]
  },
  {
   "cell_type": "code",
   "execution_count": 22,
   "metadata": {
    "colab": {
     "base_uri": "https://localhost:8080/"
    },
    "id": "aqfCqwR54-6T",
    "outputId": "34944d57-0e1d-4f06-ce75-918de24b09c3"
   },
   "outputs": [
    {
     "name": "stdout",
     "output_type": "stream",
     "text": [
      "2\n",
      "[[36. 77.]\n",
      " [96.  7.]]\n",
      "[[-0.00098039  0.01078431]\n",
      " [ 0.01344538 -0.00504202]]\n",
      "[[0.32843137]\n",
      " [0.78151261]]\n",
      "Cálculo certo\n"
     ]
    }
   ],
   "source": [
    "##### import numpy as np\n",
    "\n",
    "N = int(input())\n",
    "\n",
    "\n",
    "A = np.floor(100*np.random.rand(N,N)) \n",
    "B = np.floor(100*np.random.rand(N,1))\n",
    "print(A)\n",
    "Ai = np.linalg.inv(A)\n",
    "print(Ai)\n",
    "X = Ai.dot(B)\n",
    "B2 = A.dot(X)\n",
    "print(X)\n",
    "\n",
    "if np.array_equal(np.round(B,2),np.round(B2,2))==True:\n",
    "    print(\"Cálculo certo\")"
   ]
  },
  {
   "cell_type": "markdown",
   "metadata": {
    "id": "J5h6sPaT5XQ7"
   },
   "source": [
    "**10) Escreve um programa que crie um arquivo chamado seno.txt contendo duas colunas: a primeira corresponde a 100 valores entre 0 e 2*pi, e a segunda corresponde ao seno de cada valor da primeira coluna. Salve os valores com 6 casas decimais. Dica: utilize a função np.savetxt(..).**"
   ]
  },
  {
   "cell_type": "code",
   "execution_count": null,
   "metadata": {
    "id": "ovaocQ055r56"
   },
   "outputs": [],
   "source": [
    "import numpy as np\n",
    "import math\n",
    "\n",
    "linha1 = 2*math.pi*np.random.random((100))\n",
    "linha1 = list(linha1)\n",
    "\n",
    "linha2 = []\n",
    "\n",
    "for i in range (len(linha1)):\n",
    "    linha1[i] = linha1[i]\n",
    "    linha2.append(math.sin(linha1[i]))\n",
    "    \n",
    "a = np.array([linha1, linha2])\n",
    "a = np.transpose(a)\n",
    "np.savetxt(\"seno.txt\",a, fmt=\"%.6f\")\n"
   ]
  },
  {
   "cell_type": "markdown",
   "metadata": {
    "id": "6Xb5CD3M64bX"
   },
   "source": [
    "**11) Escreve um programa que leia o arquivo seno.txt gerado no exercício anterior, armazenando a primeira coluna em um vetor x e a segunda coluna em um vetor f. Dica: utilize a função numpy.loadtxt(..)**"
   ]
  },
  {
   "cell_type": "code",
   "execution_count": null,
   "metadata": {
    "id": "PGqe5RKf7Jc4"
   },
   "outputs": [],
   "source": [
    "import numpy as np\n",
    "\n",
    "b = np.loadtxt(\"seno.txt\")\n",
    "x = np.zeros(b.shape[1])\n",
    "f = np.zeros(b.shape[1])\n",
    "b = np.transpose(b)\n",
    "x = b[0]\n",
    "f = b[1]\n"
   ]
  }
 ],
 "metadata": {
  "colab": {
   "collapsed_sections": [],
   "name": "Lista_NumPy.ipynb",
   "provenance": []
  },
  "kernelspec": {
   "display_name": "Python 3",
   "language": "python",
   "name": "python3"
  },
  "language_info": {
   "codemirror_mode": {
    "name": "ipython",
    "version": 3
   },
   "file_extension": ".py",
   "mimetype": "text/x-python",
   "name": "python",
   "nbconvert_exporter": "python",
   "pygments_lexer": "ipython3",
   "version": "3.8.3"
  }
 },
 "nbformat": 4,
 "nbformat_minor": 1
}
